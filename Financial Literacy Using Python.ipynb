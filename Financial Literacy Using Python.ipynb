{
 "cells": [
  {
   "cell_type": "markdown",
   "metadata": {},
   "source": [
    "### Financial Literacy Using Python"
   ]
  },
  {
   "cell_type": "code",
   "execution_count": 1,
   "metadata": {},
   "outputs": [
    {
     "name": "stdout",
     "output_type": "stream",
     "text": [
      "The Total Amount Of Savings = $ 570\n"
     ]
    }
   ],
   "source": [
    "# Calculating Total Amount Of Savings\n",
    "saving_notes = 500\n",
    "savings_coins = 70\n",
    "total = saving_notes + savings_coins \n",
    "print (\"The Total Amount Of Savings = $\",total)"
   ]
  },
  {
   "cell_type": "code",
   "execution_count": 2,
   "metadata": {},
   "outputs": [
    {
     "name": "stdout",
     "output_type": "stream",
     "text": [
      "Enter the savings amount in notes: $500.75\n",
      "Enter the savings amount in coins: $23.66\n",
      "\n",
      "The Total Amount Of Savings = $ 524.41\n"
     ]
    }
   ],
   "source": [
    "# Calculating Total Amount Of Savings (Keying in amount)\n",
    "saving_notes = float(input(\"Enter the savings amount in notes: $\"))\n",
    "savings_coins = float(input(\"Enter the savings amount in coins: $\"))\n",
    "total = saving_notes + savings_coins \n",
    "print (\"\\nThe Total Amount Of Savings = $\",total)"
   ]
  },
  {
   "cell_type": "code",
   "execution_count": 3,
   "metadata": {},
   "outputs": [
    {
     "name": "stdout",
     "output_type": "stream",
     "text": [
      "Enter the savings per month: $2500\n",
      "Enter the total number of months: 12\n",
      "The Total Amount Of Savings in 12.0 months is $ 30000.0\n"
     ]
    }
   ],
   "source": [
    "# Calculating Total Amount Of Savings in months (Keying in amount)\n",
    "savings_per_mth = float(input(\"Enter the savings per month: $\"))\n",
    "total_mth = float(input(\"Enter the total number of months: \"))\n",
    "total = savings_per_mth * total_mth \n",
    "print (\"The Total Amount Of Savings in\",total_mth, \"months is $\",total)"
   ]
  },
  {
   "cell_type": "code",
   "execution_count": 4,
   "metadata": {},
   "outputs": [
    {
     "name": "stdout",
     "output_type": "stream",
     "text": [
      "Enter your Total Amount Of Savings: $30000\n",
      "Enter your Total Amount of Expenses: $2300\n",
      "The Total Amount Of Savings can last for 13.043478260869565 months of expenses.\n"
     ]
    }
   ],
   "source": [
    "# Using Function in Python \n",
    "def savings_expenses(): # How much savings that can last for the number of months of expenses\n",
    "    total_savings = float(input(\"Enter your Total Amount Of Savings: $\"))\n",
    "    monthly_exp = float(input(\"Enter your Total Amount of Expenses: $\"))\n",
    "    num_of_mths = total_savings/monthly_exp\n",
    "    print (\"The Total Amount Of Savings can last for\", num_of_mths, \"months of expenses.\" ) \n",
    "savings_expenses()"
   ]
  },
  {
   "cell_type": "code",
   "execution_count": 10,
   "metadata": {},
   "outputs": [
    {
     "name": "stdout",
     "output_type": "stream",
     "text": [
      "Enter the number of months of expenses in terms of savings:13\n",
      "The amount entered is not within range. Thank you.\n"
     ]
    }
   ],
   "source": [
    "# Managing the range for number of months of expenses\n",
    "num_of_mths = float(input(\"Enter the number of months of expenses in terms of savings:\"))\n",
    "\n",
    "if 6<num_of_mths<13:\n",
    "    print (\"Well Done!!! Great Job !!! \")\n",
    "    \n",
    "elif 3<num_of_mths<5:\n",
    "    print(\"You are doing great!!! Keep it up !!\")\n",
    "\n",
    "elif 0<num_of_mths<2:\n",
    "    print(\"Awesome !!! Keep building your savings!!!\")\n",
    "    \n",
    "else:\n",
    "    print(\"The amount entered is not within range. Thank you.\")"
   ]
  },
  {
   "cell_type": "code",
   "execution_count": null,
   "metadata": {},
   "outputs": [],
   "source": []
  }
 ],
 "metadata": {
  "kernelspec": {
   "display_name": "Python 3",
   "language": "python",
   "name": "python3"
  },
  "language_info": {
   "codemirror_mode": {
    "name": "ipython",
    "version": 3
   },
   "file_extension": ".py",
   "mimetype": "text/x-python",
   "name": "python",
   "nbconvert_exporter": "python",
   "pygments_lexer": "ipython3",
   "version": "3.8.5"
  }
 },
 "nbformat": 4,
 "nbformat_minor": 4
}
